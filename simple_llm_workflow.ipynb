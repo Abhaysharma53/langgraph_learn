{
 "cells": [
  {
   "cell_type": "code",
   "execution_count": 10,
   "id": "a4de53cf",
   "metadata": {},
   "outputs": [],
   "source": [
    "from langgraph.graph import StateGraph, START, END\n",
    "from langchain_openai import ChatOpenAI\n",
    "from typing import TypedDict\n",
    "from dotenv import load_dotenv"
   ]
  },
  {
   "cell_type": "code",
   "execution_count": 5,
   "id": "aa54bc94",
   "metadata": {},
   "outputs": [
    {
     "data": {
      "text/plain": [
       "True"
      ]
     },
     "execution_count": 5,
     "metadata": {},
     "output_type": "execute_result"
    }
   ],
   "source": [
    "load_dotenv()"
   ]
  },
  {
   "cell_type": "code",
   "execution_count": 7,
   "id": "49bf5722",
   "metadata": {},
   "outputs": [],
   "source": [
    "model = ChatOpenAI()"
   ]
  },
  {
   "cell_type": "code",
   "execution_count": 6,
   "id": "6628c706",
   "metadata": {},
   "outputs": [],
   "source": [
    "class LLMstate(TypedDict):\n",
    "        question: str\n",
    "        answer: str"
   ]
  },
  {
   "cell_type": "code",
   "execution_count": 8,
   "id": "834bf8df",
   "metadata": {},
   "outputs": [],
   "source": [
    "def llm_qa(state: LLMstate) -> LLMstate:\n",
    "    question = state['question']\n",
    "    prompt = f'answer the following question {question}'\n",
    "    answer = model.invoke(prompt).content\n",
    "    state['answer'] = answer\n",
    "    return state\n"
   ]
  },
  {
   "cell_type": "code",
   "execution_count": 11,
   "id": "3e6eeb2b",
   "metadata": {},
   "outputs": [],
   "source": [
    "graph = StateGraph(LLMstate)\n",
    "graph.add_node('llm_qa', llm_qa)\n",
    "graph.add_edge(START, 'llm_qa')\n",
    "graph.add_edge('llm_qa', END)\n",
    "\n",
    "workflow = graph.compile()\n",
    "\n",
    "\n"
   ]
  },
  {
   "cell_type": "code",
   "execution_count": 16,
   "id": "cfbebf6c",
   "metadata": {},
   "outputs": [
    {
     "name": "stdout",
     "output_type": "stream",
     "text": [
      "MS Dhoni is a retired Indian international cricketer who was also the former captain of the Indian national cricket team. He is considered one of the greatest Indian cricket players of all time and is known for his cool demeanor, leadership skills, and success in both Test and limited-overs formats of the game. Dhoni is also known for his finishing abilities with the bat and is regarded as one of the best wicket-keepers in the world.\n"
     ]
    }
   ],
   "source": [
    "intial_state = {'question': 'Who is MS Dhoni?'}\n",
    "final_state = workflow.invoke(intial_state)\n",
    "print(final_state['answer'])\n"
   ]
  },
  {
   "cell_type": "code",
   "execution_count": null,
   "id": "a77c4175",
   "metadata": {},
   "outputs": [],
   "source": []
  }
 ],
 "metadata": {
  "kernelspec": {
   "display_name": "env_learn",
   "language": "python",
   "name": "python3"
  },
  "language_info": {
   "codemirror_mode": {
    "name": "ipython",
    "version": 3
   },
   "file_extension": ".py",
   "mimetype": "text/x-python",
   "name": "python",
   "nbconvert_exporter": "python",
   "pygments_lexer": "ipython3",
   "version": "3.11.5"
  }
 },
 "nbformat": 4,
 "nbformat_minor": 5
}
