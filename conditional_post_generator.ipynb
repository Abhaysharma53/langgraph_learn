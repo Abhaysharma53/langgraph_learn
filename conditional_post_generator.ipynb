{
 "cells": [
  {
   "cell_type": "code",
   "execution_count": 7,
   "id": "9173d5f5",
   "metadata": {},
   "outputs": [],
   "source": [
    "from langgraph.graph import StateGraph, START, END\n",
    "from typing import TypedDict, Annotated, Literal\n",
    "from langchain_openai import ChatOpenAI\n",
    "from pydantic import BaseModel, Field\n",
    "from dotenv import load_dotenv\n",
    "import operator\n",
    "from langchain_core.messages import SystemMessage, HumanMessage\n",
    "\n"
   ]
  },
  {
   "cell_type": "code",
   "execution_count": 4,
   "id": "ee6264b8",
   "metadata": {},
   "outputs": [
    {
     "data": {
      "text/plain": [
       "True"
      ]
     },
     "execution_count": 4,
     "metadata": {},
     "output_type": "execute_result"
    }
   ],
   "source": [
    "load_dotenv()"
   ]
  },
  {
   "cell_type": "code",
   "execution_count": 5,
   "id": "da79fc83",
   "metadata": {},
   "outputs": [],
   "source": [
    "generator_llm = ChatOpenAI(model = 'gpt-4o-mini')\n",
    "evaluator_llm = ChatOpenAI(model = 'gpt-4o')\n",
    "optimizer_llm = ChatOpenAI(model = 'gpt-4o-mini')\n"
   ]
  },
  {
   "cell_type": "code",
   "execution_count": 8,
   "id": "dfd152df",
   "metadata": {},
   "outputs": [],
   "source": [
    "class Poststate(TypedDict):\n",
    "    title: str\n",
    "    post: str\n",
    "    evaluation : Literal['approved', 'needs_improvement']\n",
    "    feedback: str\n",
    "    iteration: int\n",
    "    max_iteration: int\n",
    "    post_history: Annotated[list[str], operator.add]\n",
    "    feedback_history: Annotated[list[str], operator.add]\n",
    "    \n",
    "\n"
   ]
  },
  {
   "cell_type": "code",
   "execution_count": 9,
   "id": "7cbd88c3",
   "metadata": {},
   "outputs": [],
   "source": [
    "class Evaluation_schema(BaseModel):\n",
    "    evaluation: Literal['approved', 'needs_improvement'] = Field(description= 'whether the created post has been approved or needs improvemnt')\n",
    "    feedback: str = Field(description= 'the detailed feedback of the tweet')"
   ]
  },
  {
   "cell_type": "code",
   "execution_count": 10,
   "id": "659eb7d4",
   "metadata": {},
   "outputs": [],
   "source": [
    "structured_evaluator_llm = evaluator_llm.with_structured_output(Evaluation_schema)"
   ]
  },
  {
   "cell_type": "code",
   "execution_count": 15,
   "id": "de7e177b",
   "metadata": {},
   "outputs": [],
   "source": [
    "def generate_post(state: Poststate):\n",
    "    message = [\n",
    "         SystemMessage(content=\"You are a funny and clever linkedin influencer.\"),\n",
    "        HumanMessage(content=f\"\"\"\n",
    "Write a short, original, and hilarious post on the topic: \"{state['title']}\".\n",
    "\n",
    "Rules:\n",
    "- Do NOT use question-answer format.\n",
    "- Max 280 characters.\n",
    "- Use observational humor, irony, sarcasm, or cultural references.\n",
    "- Think in meme logic, punchlines, or relatable takes.\n",
    "- Use simple, day to day english\n",
    "\"\"\")\n",
    "    ]\n",
    "    post = generator_llm.invoke(message).content\n",
    "    return {'post': post, 'post_history': [post]}"
   ]
  },
  {
   "cell_type": "code",
   "execution_count": 20,
   "id": "7e22554b",
   "metadata": {},
   "outputs": [],
   "source": [
    "def evaluate_post(state: Poststate):\n",
    "    message = [\n",
    "        SystemMessage(content=\"You are a ruthless, no-laugh-given linkedin critic. You evaluate linkedin post based on humor, originality, virality, and post format.\"),\n",
    "    HumanMessage(content=f\"\"\"\n",
    "Evaluate the following post:\n",
    "\n",
    "Post: \"{state['post']}\"\n",
    "\n",
    "Use the criteria below to evaluate the tweet:\n",
    "\n",
    "1. Originality – Is this fresh, or have you seen it a hundred times before?  \n",
    "2. Humor – Did it genuinely make you smile, laugh, or chuckle?  \n",
    "3. Punchiness – Is it short, sharp, and scroll-stopping?  \n",
    "4. Virality Potential – Would people retweet or share it?  \n",
    "5. Format – Is it a well-formed tweet (not a setup-punchline joke, not a Q&A joke, and under 280 characters)?\n",
    "\n",
    "Auto-reject if:\n",
    "- It's written in question-answer format (e.g., \"Why did...\" or \"What happens when...\")\n",
    "- It exceeds 280 characters\n",
    "- It reads like a traditional setup-punchline joke\n",
    "- Dont end with generic, throwaway, or deflating lines that weaken the humor (e.g., “Masterpieces of the auntie-uncle universe” or vague summaries)\n",
    "\n",
    "### Respond ONLY in structured format:\n",
    "- evaluation: \"approved\" or \"needs_improvement\"  \n",
    "- feedback: One paragraph explaining the strengths and weaknesses \n",
    "\"\"\")\n",
    "    ]\n",
    "\n",
    "    output = structured_evaluator_llm.invoke(message)\n",
    "    return {'evaluation': output.evaluation, 'feedback': output.feedback, 'feedback_history': [output.feedback]}"
   ]
  },
  {
   "cell_type": "code",
   "execution_count": 26,
   "id": "cf87e154",
   "metadata": {},
   "outputs": [],
   "source": [
    "def optimize_post(state:Poststate):\n",
    "    message = [\n",
    "        SystemMessage(content=\"You punch up linkdin post for virality and humor based on given feedback.\"),\n",
    "        HumanMessage(content=f\"\"\"\n",
    "Improve the post based on this feedback:\n",
    "\"{state['feedback']}\"\n",
    "\n",
    "Topic: \"{state['title']}\"\n",
    "Original Post:\n",
    "{state['post']}\n",
    "\n",
    "Re-write it as a short, viral-worthy linkedin post. Avoid Q&A style and stay under 280 characters.\n",
    "\"\"\")\n",
    "    ]\n",
    "    response = optimizer_llm.invoke(message).content\n",
    "    iteration = state['iteration']+1\n",
    "    return {'post': response, 'iteration': iteration, 'post_history': [response]}"
   ]
  },
  {
   "cell_type": "code",
   "execution_count": 27,
   "id": "92f8f7f5",
   "metadata": {},
   "outputs": [],
   "source": [
    "def evaluate_route(state: Poststate):\n",
    "    if state['evaluation'] == 'approved' or state['iteration'] >= state['max_iteration']:\n",
    "        return 'approved'\n",
    "    else:\n",
    "        return 'needs_improvement'"
   ]
  },
  {
   "cell_type": "code",
   "execution_count": 28,
   "id": "0414c67e",
   "metadata": {},
   "outputs": [],
   "source": [
    "graph = StateGraph(Poststate)\n",
    "graph.add_node(\"generate_post\", generate_post)\n",
    "graph.add_node('evaluate_post', evaluate_post)\n",
    "graph.add_node('optimize_post', optimize_post)\n",
    "graph.add_edge(START, 'generate_post')\n",
    "graph.add_edge('generate_post', 'evaluate_post')\n",
    "graph.add_conditional_edges('evaluate_post', evaluate_route, {'approved': END, 'needs_improvement': 'optimize_post'})\n",
    "graph.add_edge('optimize_post', 'evaluate_post')\n",
    "\n",
    "workflow = graph.compile()\n"
   ]
  },
  {
   "cell_type": "code",
   "execution_count": 29,
   "id": "d660e9ec",
   "metadata": {},
   "outputs": [
    {
     "data": {
      "image/png": "[encoded data removed]",
      "text/plain": [
       "<langgraph.graph.state.CompiledStateGraph object at 0x000001AAE699CCD0>"
      ]
     },
     "execution_count": 29,
     "metadata": {},
     "output_type": "execute_result"
    }
   ],
   "source": [
    "workflow"
   ]
  },
  {
   "cell_type": "code",
   "execution_count": 30,
   "id": "e31cf562",
   "metadata": {},
   "outputs": [],
   "source": [
    "initial_state = {\n",
    "    \"title\": \"Agentic RAG\",\n",
    "    \"iteration\": 1,\n",
    "    \"max_iteration\": 5\n",
    "}\n",
    "\n",
    "final_state = workflow.invoke(initial_state)"
   ]
  },
  {
   "cell_type": "code",
   "execution_count": 31,
   "id": "ab9d9667",
   "metadata": {},
   "outputs": [
    {
     "data": {
      "text/plain": [
       "'Just unlocked the secret of \"Agentic RAG\"! It\\'s like my cat, Bella, who boldly ignores my pleas while confidently knocking over my coffee. 🐾💥 In leadership, embrace your power—even if it means a little chaos. Success is a mix of confidence and comedy! #LeadershipGoals #CatWisdom'"
      ]
     },
     "execution_count": 31,
     "metadata": {},
     "output_type": "execute_result"
    }
   ],
   "source": [
    "final_state['post']"
   ]
  },
  {
   "cell_type": "code",
   "execution_count": 32,
   "id": "38701a89",
   "metadata": {},
   "outputs": [
    {
     "data": {
      "text/plain": [
       "3"
      ]
     },
     "execution_count": 32,
     "metadata": {},
     "output_type": "execute_result"
    }
   ],
   "source": [
    "final_state['iteration']"
   ]
  },
  {
   "cell_type": "code",
   "execution_count": null,
   "id": "e4dc8dfc",
   "metadata": {},
   "outputs": [],
   "source": []
  }
 ],
 "metadata": {
  "kernelspec": {
   "display_name": "env_learn",
   "language": "python",
   "name": "python3"
  },
  "language_info": {
   "codemirror_mode": {
    "name": "ipython",
    "version": 3
   },
   "file_extension": ".py",
   "mimetype": "text/x-python",
   "name": "python",
   "nbconvert_exporter": "python",
   "pygments_lexer": "ipython3",
   "version": "3.11.5"
  }
 },
 "nbformat": 4,
 "nbformat_minor": 5
}
