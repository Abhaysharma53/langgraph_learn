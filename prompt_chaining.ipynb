{
 "cells": [
  {
   "cell_type": "code",
   "execution_count": 2,
   "id": "a22d2735",
   "metadata": {},
   "outputs": [],
   "source": [
    "from langgraph.graph import StateGraph, START, END\n",
    "from langchain_openai import ChatOpenAI\n",
    "from typing import TypedDict\n",
    "\n",
    "\n"
   ]
  },
  {
   "cell_type": "code",
   "execution_count": 16,
   "id": "8a2c48ad",
   "metadata": {},
   "outputs": [],
   "source": [
    "model = ChatOpenAI()"
   ]
  },
  {
   "cell_type": "code",
   "execution_count": 22,
   "id": "4e03dec8",
   "metadata": {},
   "outputs": [],
   "source": [
    "#llm to generate a blog by the topic but in sequenence - topic -> topic outline -> blog\n",
    "class BlogState(TypedDict):\n",
    "    topic: str\n",
    "    outline: str\n",
    "    blog: str"
   ]
  },
  {
   "cell_type": "code",
   "execution_count": 23,
   "id": "36d7088d",
   "metadata": {},
   "outputs": [],
   "source": [
    "def generate_outline(state: BlogState) -> BlogState:\n",
    "    topic = state['topic']\n",
    "    prompt = f\"based upon the {topic}, genrate an outline for it which will be further utilized for a compelling blog\"\n",
    "    outline = model.invoke(prompt).content\n",
    "    state['outline'] = outline\n",
    "    return state\n",
    "\n",
    "def generate_blog(state: BlogState)-> BlogState:\n",
    "    outline = state['outline']\n",
    "    topic = state['topic']\n",
    "    prompt = f\"based upon the given title - {topic} and Outline \\n {outline} \\n generate a blog utilizing it\"\n",
    "    blog = model.invoke(prompt).content\n",
    "    state['blog'] = blog\n",
    "    return state\n",
    "\n"
   ]
  },
  {
   "cell_type": "code",
   "execution_count": 24,
   "id": "e55f3fc2",
   "metadata": {},
   "outputs": [
    {
     "data": {
      "text/plain": [
       "<langgraph.graph.state.StateGraph at 0x1a37fc77a90>"
      ]
     },
     "execution_count": 24,
     "metadata": {},
     "output_type": "execute_result"
    }
   ],
   "source": [
    "graph = StateGraph(BlogState)\n",
    "graph.add_node('generate_outline', generate_outline)\n",
    "graph.add_node('generate_blog', generate_blog)\n",
    "graph.add_edge(START, 'generate_outline')\n",
    "graph.add_edge('generate_outline', 'generate_blog')\n",
    "graph.add_edge('generate_blog', END)"
   ]
  },
  {
   "cell_type": "code",
   "execution_count": 25,
   "id": "d25ff6f1",
   "metadata": {},
   "outputs": [],
   "source": [
    "workflow = graph.compile()"
   ]
  },
  {
   "cell_type": "code",
   "execution_count": 26,
   "id": "3be520ed",
   "metadata": {},
   "outputs": [
    {
     "name": "stdout",
     "output_type": "stream",
     "text": [
      "{'topic': 'Agentic AI in Supply Chain', 'outline': 'I. Introduction\\n    A. Explanation of Agentic AI in supply chain\\n    B. Importance of AI in improving efficiency and decision-making in supply chain operations\\n\\nII. Agentic AI in Supply Chain\\n    A. Definition and overview of Agentic AI\\n    B. How Agentic AI differs from traditional AI in supply chain management\\n    C. Applications of Agentic AI in supply chain - forecasting, inventory management, sourcing, and logistics optimization\\n\\nIII. Benefits of Agentic AI in Supply Chain\\n    A. Increased efficiency and accuracy in decision-making\\n    B. Real-time data analysis and decision support\\n    C. Cost savings and improved customer satisfaction\\n    D. Simplification of complex supply chain processes\\n\\nIV. Challenges and Limitations of Agentic AI in Supply Chain\\n    A. Data quality and integration challenges\\n    B. Risk of over-reliance on AI systems\\n    C. Security and privacy concerns\\n\\nV. Implementation and Adoption of Agentic AI in Supply Chain\\n    A. Steps for successful implementation of Agentic AI in supply chain operations\\n    B. Case studies of companies successfully using Agentic AI in their supply chain management\\n    C. Future trends and developments in Agentic AI for supply chain\\n\\nVI. Conclusion\\n    A. Summary of key points discussed\\n    B. Reiteration of the importance of Agentic AI in transforming supply chain operations\\n    C. Call to action for companies to explore and embrace Agentic AI in their supply chain management strategies.', 'blog': \"Title: Revolutionizing Supply Chain Management with Agentic AI\\n\\nIn today's fast-paced and competitive business environment, supply chain management plays a crucial role in ensuring the smooth flow of goods and services from suppliers to consumers. With the advent of advanced technologies such as Artificial Intelligence (AI), supply chain operations are undergoing a transformation like never before. One such cutting-edge technology that is revolutionizing the supply chain industry is Agentic AI.\\n\\nAgentic AI, also known as proactive AI, is a form of artificial intelligence that is capable of taking autonomous actions to achieve specific goals in a dynamic environment. Unlike traditional AI systems that operate based on predefined rules and instructions, Agentic AI can learn, adapt, and make decisions on its own, leading to improved efficiency and decision-making in supply chain operations.\\n\\nThe applications of Agentic AI in supply chain management are vast and varied. From forecasting demand and optimizing inventory to sourcing the best suppliers and streamlining logistics operations, Agentic AI can tackle complex challenges that were once thought to be insurmountable.\\n\\nOne of the key benefits of using Agentic AI in supply chain management is the increased efficiency and accuracy in decision-making. By analyzing vast amounts of data in real-time and providing decision support, Agentic AI can help companies make informed choices that lead to cost savings and improved customer satisfaction.\\n\\nHowever, the adoption of Agentic AI in supply chain management is not without its challenges. Data quality and integration issues, the risk of over-reliance on AI systems, and concerns regarding security and privacy are some of the key hurdles that companies need to address when implementing Agentic AI in their supply chain operations.\\n\\nDespite these challenges, companies that have successfully embraced Agentic AI in their supply chain management have reported significant improvements in their operational efficiency and overall performance. By following best practices for implementation and learning from successful case studies, businesses can unlock the full potential of Agentic AI in transforming their supply chain operations.\\n\\nAs we move towards a future where AI technologies continue to advance at a rapid pace, companies must be proactive in exploring the benefits of Agentic AI for their supply chain management strategies. By embracing this revolutionary technology, businesses can stay ahead of the competition, drive innovation, and achieve sustainable growth in the global marketplace.\\n\\nIn conclusion, Agentic AI is poised to revolutionize supply chain management as we know it. By leveraging the power of autonomous decision-making and real-time data analysis, companies can unlock new opportunities for efficiency, cost savings, and customer satisfaction in their supply chain operations. It's time for businesses to seize the potential of Agentic AI and embark on a transformative journey towards a more agile and competitive supply chain ecosystem.\"}\n"
     ]
    }
   ],
   "source": [
    "initial_state = {'topic': 'Agentic AI in Supply Chain'}\n",
    "final_state = workflow.invoke(initial_state)\n",
    "print(final_state)"
   ]
  },
  {
   "cell_type": "code",
   "execution_count": 27,
   "id": "bcd7ccdf",
   "metadata": {},
   "outputs": [
    {
     "data": {
      "text/plain": [
       "\"Title: Revolutionizing Supply Chain Management with Agentic AI\\n\\nIn today's fast-paced and competitive business environment, supply chain management plays a crucial role in ensuring the smooth flow of goods and services from suppliers to consumers. With the advent of advanced technologies such as Artificial Intelligence (AI), supply chain operations are undergoing a transformation like never before. One such cutting-edge technology that is revolutionizing the supply chain industry is Agentic AI.\\n\\nAgentic AI, also known as proactive AI, is a form of artificial intelligence that is capable of taking autonomous actions to achieve specific goals in a dynamic environment. Unlike traditional AI systems that operate based on predefined rules and instructions, Agentic AI can learn, adapt, and make decisions on its own, leading to improved efficiency and decision-making in supply chain operations.\\n\\nThe applications of Agentic AI in supply chain management are vast and varied. From forecasting demand and optimizing inventory to sourcing the best suppliers and streamlining logistics operations, Agentic AI can tackle complex challenges that were once thought to be insurmountable.\\n\\nOne of the key benefits of using Agentic AI in supply chain management is the increased efficiency and accuracy in decision-making. By analyzing vast amounts of data in real-time and providing decision support, Agentic AI can help companies make informed choices that lead to cost savings and improved customer satisfaction.\\n\\nHowever, the adoption of Agentic AI in supply chain management is not without its challenges. Data quality and integration issues, the risk of over-reliance on AI systems, and concerns regarding security and privacy are some of the key hurdles that companies need to address when implementing Agentic AI in their supply chain operations.\\n\\nDespite these challenges, companies that have successfully embraced Agentic AI in their supply chain management have reported significant improvements in their operational efficiency and overall performance. By following best practices for implementation and learning from successful case studies, businesses can unlock the full potential of Agentic AI in transforming their supply chain operations.\\n\\nAs we move towards a future where AI technologies continue to advance at a rapid pace, companies must be proactive in exploring the benefits of Agentic AI for their supply chain management strategies. By embracing this revolutionary technology, businesses can stay ahead of the competition, drive innovation, and achieve sustainable growth in the global marketplace.\\n\\nIn conclusion, Agentic AI is poised to revolutionize supply chain management as we know it. By leveraging the power of autonomous decision-making and real-time data analysis, companies can unlock new opportunities for efficiency, cost savings, and customer satisfaction in their supply chain operations. It's time for businesses to seize the potential of Agentic AI and embark on a transformative journey towards a more agile and competitive supply chain ecosystem.\""
      ]
     },
     "execution_count": 27,
     "metadata": {},
     "output_type": "execute_result"
    }
   ],
   "source": [
    "final_state['blog']"
   ]
  },
  {
   "cell_type": "code",
   "execution_count": null,
   "id": "43822089",
   "metadata": {},
   "outputs": [],
   "source": []
  }
 ],
 "metadata": {
  "kernelspec": {
   "display_name": "env_learn",
   "language": "python",
   "name": "python3"
  },
  "language_info": {
   "codemirror_mode": {
    "name": "ipython",
    "version": 3
   },
   "file_extension": ".py",
   "mimetype": "text/x-python",
   "name": "python",
   "nbconvert_exporter": "python",
   "pygments_lexer": "ipython3",
   "version": "3.11.5"
  }
 },
 "nbformat": 4,
 "nbformat_minor": 5
}
