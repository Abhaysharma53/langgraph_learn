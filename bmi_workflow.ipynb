{
 "cells": [
  {
   "cell_type": "code",
   "execution_count": 10,
   "id": "88d9fe21",
   "metadata": {},
   "outputs": [],
   "source": [
    "from langgraph.graph import StateGraph, START, END\n",
    "from typing import TypedDict"
   ]
  },
  {
   "cell_type": "code",
   "execution_count": 14,
   "id": "6cff5fbd",
   "metadata": {},
   "outputs": [],
   "source": [
    "#define your state\n",
    "class BMIState(TypedDict):\n",
    "    weight_kg: float\n",
    "    height_m: float\n",
    "    bmi: float\n",
    "    category: str\n"
   ]
  },
  {
   "cell_type": "code",
   "execution_count": null,
   "id": "8e1b1491",
   "metadata": {},
   "outputs": [],
   "source": []
  },
  {
   "cell_type": "code",
   "execution_count": 15,
   "id": "6570d229",
   "metadata": {},
   "outputs": [],
   "source": [
    "#define the functions to call at each node ---- each function will get a state variable and return a state variable\n",
    "def calculate_bmi(state: BMIState) -> BMIState:\n",
    "    weight = state['weight_kg']\n",
    "    height = state['height_m']\n",
    "    bmi = weight / (height ** 2)\n",
    "    state['bmi'] = round(bmi, 2)\n",
    "\n",
    "    return state"
   ]
  },
  {
   "cell_type": "code",
   "execution_count": 16,
   "id": "cf6c7c45",
   "metadata": {},
   "outputs": [],
   "source": [
    "def label_BMI(state: BMIState) -> BMIState:\n",
    "    bmi = state['bmi']\n",
    "    if bmi < 18.5:\n",
    "        state['category'] = 'Underweight'\n",
    "    if bmi > 18.5 and bmi < 22.5:\n",
    "        state['category'] = 'Fit'\n",
    "    if bmi > 22.5 and bmi < 25:\n",
    "        state['category'] = 'Overweight'\n",
    "    else:\n",
    "        state['category'] = 'Obese'\n",
    "    \n",
    "    return state\n",
    "\n",
    "    "
   ]
  },
  {
   "cell_type": "code",
   "execution_count": 18,
   "id": "f6b85a5a",
   "metadata": {},
   "outputs": [],
   "source": [
    "#graph definition\n",
    "graph = StateGraph(BMIState)\n",
    "\n",
    "#add nodes to your graph\n",
    "graph.add_node('calculate_bmi', calculate_bmi)\n",
    "graph.add_node('label_BMI', label_BMI)\n",
    "\n",
    "#add edges to your graph\n",
    "graph.add_edge(START, 'calculate_bmi')\n",
    "graph.add_edge('calculate_bmi', 'label_BMI')\n",
    "graph.add_edge('label_BMI', END)\n",
    "\n",
    "workflow = graph.compile()"
   ]
  },
  {
   "cell_type": "code",
   "execution_count": 19,
   "id": "03190d8c",
   "metadata": {},
   "outputs": [
    {
     "data": {
      "image/png": "[encoded data removed]",
      "text/plain": [
       "<IPython.core.display.Image object>"
      ]
     },
     "execution_count": 19,
     "metadata": {},
     "output_type": "execute_result"
    }
   ],
   "source": [
    "from IPython.display import Image\n",
    "Image(workflow.get_graph().draw_mermaid_png())"
   ]
  },
  {
   "cell_type": "code",
   "execution_count": 20,
   "id": "97844740",
   "metadata": {},
   "outputs": [
    {
     "name": "stdout",
     "output_type": "stream",
     "text": [
      "{'weight_kg': 73, 'height_m': 1.73, 'bmi': 24.39, 'category': 'Overweight'}\n"
     ]
    }
   ],
   "source": [
    "initial_state = {'weight_kg': 73, 'height_m': 1.73}\n",
    "final_state = workflow.invoke(initial_state)\n",
    "print(final_state)"
   ]
  },
  {
   "cell_type": "code",
   "execution_count": null,
   "id": "5e4c4c9b",
   "metadata": {},
   "outputs": [],
   "source": []
  }
 ],
 "metadata": {
  "kernelspec": {
   "display_name": "env_learn",
   "language": "python",
   "name": "python3"
  },
  "language_info": {
   "codemirror_mode": {
    "name": "ipython",
    "version": 3
   },
   "file_extension": ".py",
   "mimetype": "text/x-python",
   "name": "python",
   "nbconvert_exporter": "python",
   "pygments_lexer": "ipython3",
   "version": "3.11.5"
  }
 },
 "nbformat": 4,
 "nbformat_minor": 5
}
