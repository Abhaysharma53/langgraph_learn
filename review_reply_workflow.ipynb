{
 "cells": [
  {
   "cell_type": "code",
   "execution_count": 5,
   "id": "b838007f",
   "metadata": {},
   "outputs": [],
   "source": [
    "from langgraph.graph import StateGraph, START, END\n",
    "from langchain_openai import ChatOpenAI\n",
    "from typing import TypedDict, Annotated, Literal\n",
    "from pydantic import BaseModel, Field\n",
    "from dotenv import load_dotenv"
   ]
  },
  {
   "cell_type": "code",
   "execution_count": 6,
   "id": "c3d76cd0",
   "metadata": {},
   "outputs": [
    {
     "data": {
      "text/plain": [
       "True"
      ]
     },
     "execution_count": 6,
     "metadata": {},
     "output_type": "execute_result"
    }
   ],
   "source": [
    "load_dotenv()"
   ]
  },
  {
   "cell_type": "code",
   "execution_count": 12,
   "id": "4072b6b1",
   "metadata": {},
   "outputs": [],
   "source": [
    "model = ChatOpenAI(model = 'gpt-4o-mini')"
   ]
  },
  {
   "cell_type": "code",
   "execution_count": 15,
   "id": "c64aeee7",
   "metadata": {},
   "outputs": [],
   "source": [
    "class ReviewSchema(BaseModel):\n",
    "    sentiment: Literal['positive', 'negative'] = Field(description= 'the sentiment of the review')"
   ]
  },
  {
   "cell_type": "code",
   "execution_count": 17,
   "id": "a8c43352",
   "metadata": {},
   "outputs": [],
   "source": [
    "class Diagnosis_schema(BaseModel):\n",
    "    issue_type: Literal['Delayed Services', 'Product Quality', 'Support Service', 'Performance issue', 'Bug', 'Others'] = Field(description='root cause of the issue')\n",
    "    customer_tone: Literal['Angry', 'Frustrated', 'Disappointed', 'calm'] = Field(description= 'the tone of the customer in the complain')\n",
    "    urgency: Literal[\"low\", \"medium\", \"high\"] = Field(description='How urgent or critical the issue appears to be')"
   ]
  },
  {
   "cell_type": "code",
   "execution_count": 18,
   "id": "30f2a09e",
   "metadata": {},
   "outputs": [],
   "source": [
    "structured_model = model.with_structured_output(ReviewSchema)\n",
    "structured_model2 = model.with_structured_output(Diagnosis_schema)"
   ]
  },
  {
   "cell_type": "code",
   "execution_count": 9,
   "id": "23ace804",
   "metadata": {},
   "outputs": [],
   "source": [
    "class ReviewState(TypedDict):\n",
    "    review: str\n",
    "    sentiment: Literal['positive', 'negative']\n",
    "    diagnosis: str\n",
    "    response: str"
   ]
  },
  {
   "cell_type": "code",
   "execution_count": 40,
   "id": "611166d1",
   "metadata": {},
   "outputs": [],
   "source": [
    "def find_sentiment(state: ReviewState):\n",
    "    review = state['review']\n",
    "    prompt = f'For the following review, find out the sentiment  \\n review - {review}'\n",
    "    sentiment = structured_model.invoke(prompt).sentiment\n",
    "    return {'sentiment': sentiment}\n",
    "\n",
    "def check_sentiment(state: ReviewState) -> Literal['positive_response', 'diagnosis']:\n",
    "    #sentiment = state['sentiment']\n",
    "    if state['sentiment'] == 'positive':\n",
    "        return 'positive_response'\n",
    "    else:\n",
    "        return 'diagnosis'\n",
    "\n",
    "def positive_response(state: ReviewSchema):\n",
    "    prompt = f\"\"\"Write a warm thank-you message in response to this review:\n",
    "    \\n\\n\\\"{state['review']}\\\"\\n\n",
    "    Also, kindly ask the user to leave feedback on our website.\"\"\"\n",
    "    output = model.invoke(prompt).content\n",
    "    return {'response': output}\n",
    "\n",
    "\n",
    "def diagnosis(state: ReviewState):\n",
    "     prompt = f\"\"\"Diagnose this negative review:\\n\\n{state['review']}\\n\"\n",
    "    \"Return issue_type, tone, and urgency.\n",
    "\"\"\"\n",
    "     response = structured_model2.invoke(prompt)\n",
    "     return {'diagnosis': response.model_dump()}\n",
    "\n",
    "def negative_response(state: ReviewState):\n",
    "    diagnosis = state['diagnosis']\n",
    "    prompt = f\"\"\"You are a support assistant.\n",
    "    The user had a '{diagnosis['issue_type']}' issue, sounded '{diagnosis['customer_tone']}', and marked urgency as '{diagnosis['urgency']}'.\n",
    "    Write an empathetic, helpful resolution message.\"\"\"\n",
    "    output = model.invoke(prompt).content\n",
    "    return {'response': output}\n",
    "\n"
   ]
  },
  {
   "cell_type": "code",
   "execution_count": 41,
   "id": "dcd87b6a",
   "metadata": {},
   "outputs": [
    {
     "data": {
      "text/plain": [
       "<langgraph.graph.state.StateGraph at 0x270a2824610>"
      ]
     },
     "execution_count": 41,
     "metadata": {},
     "output_type": "execute_result"
    }
   ],
   "source": [
    "graph = StateGraph(ReviewState)\n",
    "graph.add_node('find_sentiment', find_sentiment)\n",
    "graph.add_node('positive_response', positive_response)\n",
    "graph.add_node('diagnosis', diagnosis)\n",
    "graph.add_node('negative_response', negative_response)\n",
    "\n",
    "graph.add_edge(START, 'find_sentiment')\n",
    "graph.add_conditional_edges('find_sentiment', check_sentiment)\n",
    "graph.add_edge('positive_response', END)\n",
    "graph.add_edge('diagnosis', 'negative_response')\n",
    "graph.add_edge('negative_response', END)\n",
    "\n",
    "\n"
   ]
  },
  {
   "cell_type": "code",
   "execution_count": 42,
   "id": "72ee274e",
   "metadata": {},
   "outputs": [
    {
     "data": {
      "image/png": "[encoded data removed]",
      "text/plain": [
       "<langgraph.graph.state.CompiledStateGraph object at 0x00000270A2885790>"
      ]
     },
     "execution_count": 42,
     "metadata": {},
     "output_type": "execute_result"
    }
   ],
   "source": [
    "workflow = graph.compile()\n",
    "workflow"
   ]
  },
  {
   "cell_type": "code",
   "execution_count": 43,
   "id": "f9bb45ae",
   "metadata": {},
   "outputs": [],
   "source": [
    "initial_state = {'review': \"\"\"I had high hopes for this product based on the description and a few initial reviews, but after using it for a couple of weeks, I am honestly disappointed. The performance is sluggish and inconsistent — it takes forever to start up and crashes randomly during use.\n",
    "\n",
    "What worse is that it seems to get worse over time. The battery (if it has one) drains ridiculously fast, and it heats up even during light use. I expected smooth functionality and some level of reliability, but it just does not deliver.\n",
    "\n",
    "Customer support has not been helpful either — all I got was a scripted response. For the price I paid, I expected a lot better. Would not recommend unless major improvements are made.\"\"\"}\n",
    "output = workflow.invoke(initial_state)"
   ]
  },
  {
   "cell_type": "code",
   "execution_count": 45,
   "id": "5cd0fa56",
   "metadata": {},
   "outputs": [
    {
     "name": "stdout",
     "output_type": "stream",
     "text": [
      "Subject: We're Here to Help with Your Performance Issue\n",
      "\n",
      "Dear [User's Name],\n",
      "\n",
      "I hope this message finds you well. I want to first thank you for bringing your performance issue to our attention. I understand how disappointing it can be when things don’t work as expected, especially when you're relying on our service.\n",
      "\n",
      "I want to assure you that we’re here to help you resolve this as quickly as possible. To better assist you, could you please provide a few more details regarding the specific nature of the performance issue you are experiencing? For instance, if you could let us know the tasks or features that are causing problems, as well as any error messages you may be encountering, it would be extremely helpful.\n",
      "\n",
      "In the meantime, here are a few troubleshooting steps that may help alleviate the issue:\n",
      "\n",
      "1. Clear your cache and cookies.\n",
      "2. Ensure that you have the latest version of the software.\n",
      "3. Restart your device.\n",
      "\n",
      "I appreciate your patience as we work together to find a solution. Your satisfaction is very important to us, and we are committed to resolving this for you as swiftly as possible.\n",
      "\n",
      "Looking forward to your response!\n",
      "\n",
      "Warm regards,\n",
      "\n",
      "[Your Name]  \n",
      "[Your Position]  \n",
      "[Your Contact Information]  \n",
      "[Your Company]\n",
      "{'issue_type': 'Performance issue', 'customer_tone': 'Disappointed', 'urgency': 'high'}\n"
     ]
    }
   ],
   "source": [
    "print(output['response'])\n",
    "print(output['diagnosis'])\n"
   ]
  },
  {
   "cell_type": "code",
   "execution_count": 46,
   "id": "d77819cb",
   "metadata": {},
   "outputs": [
    {
     "name": "stdout",
     "output_type": "stream",
     "text": [
      "Subject: We're Here to Help You with the Bug Issue\n",
      "\n",
      "Hi [User's Name],\n",
      "\n",
      "Thank you for reaching out to us, and I'm truly sorry to hear that you're experiencing a bug issue. I understand how frustrating this can be, especially when you’re relying on the system to work smoothly.\n",
      "\n",
      "I want to assure you that your concerns are important to us, and we are committed to resolving this as quickly as possible. Could you please provide me with a few more details about the bug? Specifically, it would be helpful to know what actions you were taking when the issue occurred, any error messages you may have seen, and the device or platform you are using.\n",
      "\n",
      "Once I have that information, I'll be able to investigate the issue more effectively and work towards a solution. If you have any urgent tasks, please let me know, and I can prioritize your case.\n",
      "\n",
      "Thank you for your patience. I’m here to help!\n",
      "\n",
      "Best regards,\n",
      "\n",
      "[Your Name]  \n",
      "[Your Position]  \n",
      "[Your Contact Information]\n",
      "{'issue_type': 'Bug', 'customer_tone': 'Frustrated', 'urgency': 'high'}\n"
     ]
    }
   ],
   "source": [
    "intial_state={\n",
    "    'review': \"I’ve been trying to log in for over an hour now, and the app keeps freezing on the authentication screen. I even tried reinstalling it, but no luck. This kind of bug is unacceptable, especially when it affects basic functionality.\"\n",
    "}\n",
    "output = workflow.invoke(intial_state)\n",
    "print(output['response'])\n",
    "print(output['diagnosis'])"
   ]
  },
  {
   "cell_type": "code",
   "execution_count": null,
   "id": "7149ce1f",
   "metadata": {},
   "outputs": [],
   "source": []
  }
 ],
 "metadata": {
  "kernelspec": {
   "display_name": "env_learn",
   "language": "python",
   "name": "python3"
  },
  "language_info": {
   "codemirror_mode": {
    "name": "ipython",
    "version": 3
   },
   "file_extension": ".py",
   "mimetype": "text/x-python",
   "name": "python",
   "nbconvert_exporter": "python",
   "pygments_lexer": "ipython3",
   "version": "3.11.5"
  }
 },
 "nbformat": 4,
 "nbformat_minor": 5
}
