{
 "cells": [
  {
   "cell_type": "code",
   "execution_count": 12,
   "id": "f11e567e",
   "metadata": {},
   "outputs": [],
   "source": [
    "from langgraph.graph import StateGraph, START, END\n",
    "from langchain_openai import ChatOpenAI\n",
    "from typing import TypedDict, Annotated\n",
    "import operator\n",
    "from dotenv import load_dotenv\n",
    "from pydantic import BaseModel, Field"
   ]
  },
  {
   "cell_type": "code",
   "execution_count": 15,
   "id": "0761148b",
   "metadata": {},
   "outputs": [
    {
     "data": {
      "text/plain": [
       "True"
      ]
     },
     "execution_count": 15,
     "metadata": {},
     "output_type": "execute_result"
    }
   ],
   "source": [
    "#model\n",
    "model = ChatOpenAI(model= 'gpt-4o-mini')\n",
    "load_dotenv()"
   ]
  },
  {
   "cell_type": "code",
   "execution_count": 16,
   "id": "d706eb18",
   "metadata": {},
   "outputs": [],
   "source": [
    "class EvaluationSchema(BaseModel):\n",
    "    feedback: str = Field(description= 'Detailed Feedabck of the essay')\n",
    "    score: int = Field(description= 'Score out of 10', ge = 0, le = 10)"
   ]
  },
  {
   "cell_type": "code",
   "execution_count": 17,
   "id": "bf6e2171",
   "metadata": {},
   "outputs": [],
   "source": [
    "structured_model = model.with_structured_output(EvaluationSchema)"
   ]
  },
  {
   "cell_type": "code",
   "execution_count": 18,
   "id": "a67cd233",
   "metadata": {},
   "outputs": [],
   "source": [
    "class UPSCEssay(TypedDict):\n",
    "    essay: str\n",
    "    depth_feedback: str\n",
    "    COT_feedback: str\n",
    "    language_feedback: str\n",
    "    overall_feedback: str\n",
    "    individual_scores: Annotated[list[int], operator.add]\n",
    "    avg_score: float\n",
    "\n"
   ]
  },
  {
   "cell_type": "code",
   "execution_count": 42,
   "id": "48bfb376",
   "metadata": {},
   "outputs": [],
   "source": [
    "def depth_of_content(state: UPSCEssay):\n",
    "    essay = state['essay']\n",
    "    prompt = f'Evaluate depth of the analysis of the following essay and provide a detailed feedabck and assign a score out of 10 \\n {essay}'\n",
    "    output = structured_model.invoke(prompt)\n",
    "    return {'depth_feedback': output.feedback, 'individual_scores': [output.score]}\n",
    "\n",
    "def clarity_of_thought(state: UPSCEssay):\n",
    "    essay = state['essay']\n",
    "    prompt = f'Evaluate clarity of the thought of the following essay and provide a detailed feedback and assign a score out of 10 \\n {essay}'\n",
    "    output = structured_model.invoke(prompt)\n",
    "    return {'COT_feedback': output.feedback, 'individual_scores': [output.score]}\n",
    "\n",
    "def language_of_essay(state: UPSCEssay):\n",
    "    essay = state['essay']\n",
    "    prompt = f'Evaluate language and the grammer used of the following essay and provide a detailed feedabck and assign a score out of 10 \\n {essay}'\n",
    "    output = structured_model.invoke(prompt)\n",
    "    return {'language_feedback': output.feedback, 'individual_scores': [output.score]}\n",
    "\n",
    "def overall_feedback(state: UPSCEssay):\n",
    "    prompt = f\"Based upon the following feedback, create a summarized version of the feedback given on the essay, where \\n language feedback {state['language_feedback']} \\n clarity of thought feedback {state['COT_feedback']} \\n depth of the content feedback {state['depth_feedback']}\"\n",
    "    final_output = model.invoke(prompt).content\n",
    "    \n",
    "    #avg score\n",
    "    avg_score = sum(state['individual_scores'])/len(state['individual_scores'])\n",
    "    return {'overall_feedback': final_output, 'avg_score': avg_score}\n",
    "\n",
    "\n",
    "\n"
   ]
  },
  {
   "cell_type": "code",
   "execution_count": 43,
   "id": "67f1ccf6",
   "metadata": {},
   "outputs": [],
   "source": [
    "graph = StateGraph(UPSCEssay)\n",
    "graph.add_node('depth_of_content', depth_of_content)\n",
    "graph.add_node('clarity_of_thought', clarity_of_thought)\n",
    "graph.add_node('language_of_essay', language_of_essay)\n",
    "graph.add_node('feedback_summary', overall_feedback)\n",
    "graph.add_edge(START, 'depth_of_content')\n",
    "graph.add_edge(START, 'clarity_of_thought')\n",
    "graph.add_edge(START, 'language_of_essay')\n",
    "graph.add_edge('depth_of_content', 'feedback_summary')\n",
    "graph.add_edge('clarity_of_thought', 'feedback_summary')\n",
    "graph.add_edge('language_of_essay', 'feedback_summary')\n",
    "\n",
    "workflow = graph.compile()"
   ]
  },
  {
   "cell_type": "code",
   "execution_count": 44,
   "id": "e7241efc",
   "metadata": {},
   "outputs": [
    {
     "data": {
      "image/png": "[encoded data removed]",
      "text/plain": [
       "<langgraph.graph.state.CompiledStateGraph object at 0x0000017A48781B10>"
      ]
     },
     "execution_count": 44,
     "metadata": {},
     "output_type": "execute_result"
    }
   ],
   "source": [
    "workflow"
   ]
  },
  {
   "cell_type": "code",
   "execution_count": 45,
   "id": "32e7ea6d",
   "metadata": {},
   "outputs": [],
   "source": [
    "essay = '''Climate change is no longer a future problem, it is already here and impacting lives across the globe. For a developing country like India, which is still grappling with poverty and inequality, the challenges posed by climate change are enormous. Rising temperatures, unpredictable rainfall patterns, and frequent extreme weather events like floods, droughts, and cyclones are all becoming common.\n",
    "\n",
    "Agriculture, which is the backbone of the Indian economy and employs more than 50percent of the population, is being directly affected. Crops are failing due to irregular monsoons and increasing water stress. This is creating a big impact on rural livelihoods and also food security of the country. Besides, coastal areas like Sundarbans and cities like Mumbai and Chennai are at risk due to rising sea levels and storm surges.\n",
    "\n",
    "India is also witnessing increasing heat waves, especially in northern and central parts, making living conditions worse, particularly for the poor who do not have access to air conditioning or proper shelter. Cities are becoming heat islands and this is only going to increase with urbanisation.\n",
    "\n",
    "The government has taken steps like the National Action Plan on Climate Change and also ratifying the Paris Agreement, but implementation on ground is still lacking. There is need for stronger political will, public awareness and technological innovation to combat the issue.\n",
    "\n",
    "In conclusion, climate change is not just an environmental problem, but also a social and economic threat. India needs to act fast and act now before things go beyond control. It is not just the duty of the government, but every citizen must contribute by adopting more sustainable lifestyles.\n",
    "\n",
    "'''"
   ]
  },
  {
   "cell_type": "code",
   "execution_count": 46,
   "id": "ddaab74b",
   "metadata": {},
   "outputs": [],
   "source": [
    "output = workflow.invoke({'essay': essay})"
   ]
  },
  {
   "cell_type": "code",
   "execution_count": 47,
   "id": "1cef6d5f",
   "metadata": {},
   "outputs": [
    {
     "name": "stdout",
     "output_type": "stream",
     "text": [
      "{'essay': 'Climate change is no longer a future problem, it is already here and impacting lives across the globe. For a developing country like India, which is still grappling with poverty and inequality, the challenges posed by climate change are enormous. Rising temperatures, unpredictable rainfall patterns, and frequent extreme weather events like floods, droughts, and cyclones are all becoming common.\\n\\nAgriculture, which is the backbone of the Indian economy and employs more than 50percent of the population, is being directly affected. Crops are failing due to irregular monsoons and increasing water stress. This is creating a big impact on rural livelihoods and also food security of the country. Besides, coastal areas like Sundarbans and cities like Mumbai and Chennai are at risk due to rising sea levels and storm surges.\\n\\nIndia is also witnessing increasing heat waves, especially in northern and central parts, making living conditions worse, particularly for the poor who do not have access to air conditioning or proper shelter. Cities are becoming heat islands and this is only going to increase with urbanisation.\\n\\nThe government has taken steps like the National Action Plan on Climate Change and also ratifying the Paris Agreement, but implementation on ground is still lacking. There is need for stronger political will, public awareness and technological innovation to combat the issue.\\n\\nIn conclusion, climate change is not just an environmental problem, but also a social and economic threat. India needs to act fast and act now before things go beyond control. It is not just the duty of the government, but every citizen must contribute by adopting more sustainable lifestyles.\\n\\n', 'depth_feedback': 'The essay effectively outlines the urgency of climate change as a present issue, particularly in the context of India. It acknowledges the various dimensions of the problem, including its environmental, social, and economic implications. The analysis of how agriculture is impacted, especially given its role in the economy and the livelihoods of a significant portion of the population, showcases a good understanding of the direct effects of climate change. Furthermore, the mention of coastal risks and urban heat islands adds depth to the discussion, illustrating how climate change affects different geographic areas and demographics. \\n\\nHowever, the essay could enhance its depth by incorporating statistical data or specific examples to support the claims made, such as citing studies that reveal the decline in crop yields or specific instances of climate-related disasters impacting communities. The discussion on government action is a valuable inclusion, but it may benefit from a more nuanced examination of the barriers to implementation, as well as suggestions for alternative strategies to enhance efficacy. \\n\\nMoreover, the call for public awareness and technological innovation could be expanded to provide concrete examples of successful initiatives or potential innovations that could be applied in the Indian context. The conclusion is succinct but somewhat generic; reiterating specific, actionable steps would provide a stronger ending to the essay.\\n\\nOverall, while the essay presents a clear and structured argument about climate change in India, it could improve in terms of specific evidence and deeper exploration of suggested solutions to enhance its analytical depth.', 'COT_feedback': 'The essay presents a well-structured argument that clearly outlines the significant impact of climate change in India. It identifies specific issues, such as the threat to agriculture, the risks to coastal areas, and the social implications for the impoverished population. Each point is supported by relevant examples, providing a clear illustration of the situation. However, there are a few areas where clarity can be improved:\\n\\n1. **Punctuation and Grammar:** There are some grammatical issues, such as the phrase \"more than 50percent\" which should be \"more than 50 percent,\" and the sentence structure could be enhanced for better flow.\\n\\n2. **Detailing Solutions:** While the essay mentions government actions, it could benefit from a clearer outline of what additional steps could be taken or what specific technologies might be employed to help mitigate climate change. This would provide a more holistic view of the issue and potential solutions.\\n\\n3. **Connecting Ideas:** The transition between different sections could be smoother. For example, the jump from discussing the impacts on agriculture to urban heat islands could be better linked to demonstrate a cohesive understanding of how these issues interconnect.\\n\\n4. **Call to Action:** The conclusion effectively stresses the need for individual responsibility alongside government action. However, it could be strengthened by suggesting specific actions citizens can take to contribute.\\n\\nOverall, the essay successfully communicates the urgency of climate change in India, but some minor adjustments could enhance its clarity and impact.', 'language_feedback': 'Overall, the essay discusses climate change\\'s impact on India effectively. However, there are several areas for improvement regarding grammar and language use:\\n\\n1. **Punctuation**: The first sentence incorrectly uses a comma instead of a period or a semicolon. It can be better expressed as: \"Climate change is no longer a future problem; it is already here and impacting lives across the globe.\"\\n\\n2. **Word Choice**: The phrase \"50percent\" should be corrected to \"50 percent\" for clarity. Spaces are required when writing percentages.\\n\\n3. **Clarity and Precision**: The phrase \"big impact\" is somewhat vague. Instead, consider using \"significant impact\" or \"serious consequences\" for a stronger statement.\\n\\n4. **Parallel Structure**: In the list describing the impacts of climate change, ensure parallelism. For example, writing \"Rising temperatures, unpredictable rainfall patterns, and an increase in extreme weather events such as floods, droughts, and cyclones\" maintains balance better within the sentence.\\n\\n5. **Use of Adverbs and Modifiers**: In sentences such as \"This is creating a big impact on rural livelihoods...\", consider using more specific language. For instance, \"This has severely impacted rural livelihoods...\" offers a stronger connotation than \"creating a big impact.\"\\n\\n6. **Grammar**: The phrase ‘there is need for stronger political will’ could be better stated as ‘there is a need for stronger political will...’ for grammatical correctness.\\n\\n7. **Cohesion and Flow**: The transitions between the paragraphs could be smoother to enhance the overall flow of the essay. For example, adding phrases such as \"Moreover, ongoing solutions must also be robust...\" can help link the governmental actions to the call for individual responsibility.\\n\\n8. **Conclusion**: The conclusion should also encapsulate a summary of the main points discussed in the body rather than just reiterating the urgency. It can briefly reflect on the previously mentioned points before calling for immediate action.\\n\\nThese suggestions should help refine the structure and clarity of the essay, making it more coherent and impactful.', 'overall_feedback': '### Summary of Feedback on the Essay\\n\\n**Language Feedback**: The essay effectively discusses climate change\\'s impact on India but needs improvements in grammar and language use. Key areas for enhancement include:\\n\\n1. **Punctuation**: Use a period or semicolon instead of a comma in the opening sentence.\\n2. **Word Choice**: Change \"50percent\" to \"50 percent\" for clarity.\\n3. **Clarity and Precision**: Replace vague terms like \"big impact\" with stronger phrases such as \"significant impact.\"\\n4. **Parallel Structure**: Maintain parallelism in lists to improve readability.\\n5. **Use of Adverbs and Modifiers**: Utilize more specific language for stronger statements.\\n6. **Grammar**: Improve grammatical accuracy in phrases like \"there is need for stronger political will.\"\\n7. **Cohesion and Flow**: Enhance transitions between paragraphs for better flow.\\n8. **Conclusion**: Summarize main points effectively before calling for action.\\n\\nThese suggestions aim to refine the essay\\'s structure and clarity.\\n\\n**Clarity of Thought Feedback**: The essay presents a well-structured argument regarding the impact of climate change in India, identifying issues like agricultural threats and risks to coastal areas, supported by relevant examples. However, it could improve in:\\n\\n1. **Punctuation and Grammar**: Address grammatical issues for better flow.\\n2. **Detailing Solutions**: Clearly outline additional steps and technologies for mitigating climate change.\\n3. **Connecting Ideas**: Improve transitions between sections for cohesion.\\n4. **Call to Action**: Strengthen the conclusion by suggesting specific individual actions.\\n\\nOverall, while the essay communicates the urgency of climate change effectively, minor adjustments could enhance clarity and impact.\\n\\n**Depth of Content Feedback**: The essay successfully highlights the urgency of climate change in India across environmental, social, and economic dimensions. It shows a good understanding of its impacts on agriculture and demographic variations. To enhance depth, the essay could:\\n\\n1. Incorporate statistical data or specific examples to substantiate claims.\\n2. Examine barriers to government action and suggest alternative strategies.\\n3. Expand on public awareness and technology, providing concrete examples of successful initiatives.\\n4. End with specific, actionable steps in the conclusion.\\n\\nIn summary, while the essay presents a clear argument on climate change, it could benefit from specific evidence and a deeper exploration of proposed solutions to improve analytical depth.', 'individual_scores': [7, 7, 7], 'avg_score': 7.0}\n"
     ]
    }
   ],
   "source": [
    "print(output)"
   ]
  },
  {
   "cell_type": "code",
   "execution_count": 48,
   "id": "3cf40673",
   "metadata": {},
   "outputs": [
    {
     "data": {
      "text/plain": [
       "dict"
      ]
     },
     "execution_count": 48,
     "metadata": {},
     "output_type": "execute_result"
    }
   ],
   "source": [
    "type(output)"
   ]
  },
  {
   "cell_type": "code",
   "execution_count": 50,
   "id": "23d285f5",
   "metadata": {},
   "outputs": [
    {
     "name": "stdout",
     "output_type": "stream",
     "text": [
      "essay : Climate change is no longer a future problem, it is already here and impacting lives across the globe. For a developing country like India, which is still grappling with poverty and inequality, the challenges posed by climate change are enormous. Rising temperatures, unpredictable rainfall patterns, and frequent extreme weather events like floods, droughts, and cyclones are all becoming common.\n",
      "\n",
      "Agriculture, which is the backbone of the Indian economy and employs more than 50percent of the population, is being directly affected. Crops are failing due to irregular monsoons and increasing water stress. This is creating a big impact on rural livelihoods and also food security of the country. Besides, coastal areas like Sundarbans and cities like Mumbai and Chennai are at risk due to rising sea levels and storm surges.\n",
      "\n",
      "India is also witnessing increasing heat waves, especially in northern and central parts, making living conditions worse, particularly for the poor who do not have access to air conditioning or proper shelter. Cities are becoming heat islands and this is only going to increase with urbanisation.\n",
      "\n",
      "The government has taken steps like the National Action Plan on Climate Change and also ratifying the Paris Agreement, but implementation on ground is still lacking. There is need for stronger political will, public awareness and technological innovation to combat the issue.\n",
      "\n",
      "In conclusion, climate change is not just an environmental problem, but also a social and economic threat. India needs to act fast and act now before things go beyond control. It is not just the duty of the government, but every citizen must contribute by adopting more sustainable lifestyles.\n",
      "\n",
      "\n",
      "depth_feedback : The essay effectively outlines the urgency of climate change as a present issue, particularly in the context of India. It acknowledges the various dimensions of the problem, including its environmental, social, and economic implications. The analysis of how agriculture is impacted, especially given its role in the economy and the livelihoods of a significant portion of the population, showcases a good understanding of the direct effects of climate change. Furthermore, the mention of coastal risks and urban heat islands adds depth to the discussion, illustrating how climate change affects different geographic areas and demographics. \n",
      "\n",
      "However, the essay could enhance its depth by incorporating statistical data or specific examples to support the claims made, such as citing studies that reveal the decline in crop yields or specific instances of climate-related disasters impacting communities. The discussion on government action is a valuable inclusion, but it may benefit from a more nuanced examination of the barriers to implementation, as well as suggestions for alternative strategies to enhance efficacy. \n",
      "\n",
      "Moreover, the call for public awareness and technological innovation could be expanded to provide concrete examples of successful initiatives or potential innovations that could be applied in the Indian context. The conclusion is succinct but somewhat generic; reiterating specific, actionable steps would provide a stronger ending to the essay.\n",
      "\n",
      "Overall, while the essay presents a clear and structured argument about climate change in India, it could improve in terms of specific evidence and deeper exploration of suggested solutions to enhance its analytical depth.\n",
      "COT_feedback : The essay presents a well-structured argument that clearly outlines the significant impact of climate change in India. It identifies specific issues, such as the threat to agriculture, the risks to coastal areas, and the social implications for the impoverished population. Each point is supported by relevant examples, providing a clear illustration of the situation. However, there are a few areas where clarity can be improved:\n",
      "\n",
      "1. **Punctuation and Grammar:** There are some grammatical issues, such as the phrase \"more than 50percent\" which should be \"more than 50 percent,\" and the sentence structure could be enhanced for better flow.\n",
      "\n",
      "2. **Detailing Solutions:** While the essay mentions government actions, it could benefit from a clearer outline of what additional steps could be taken or what specific technologies might be employed to help mitigate climate change. This would provide a more holistic view of the issue and potential solutions.\n",
      "\n",
      "3. **Connecting Ideas:** The transition between different sections could be smoother. For example, the jump from discussing the impacts on agriculture to urban heat islands could be better linked to demonstrate a cohesive understanding of how these issues interconnect.\n",
      "\n",
      "4. **Call to Action:** The conclusion effectively stresses the need for individual responsibility alongside government action. However, it could be strengthened by suggesting specific actions citizens can take to contribute.\n",
      "\n",
      "Overall, the essay successfully communicates the urgency of climate change in India, but some minor adjustments could enhance its clarity and impact.\n",
      "language_feedback : Overall, the essay discusses climate change's impact on India effectively. However, there are several areas for improvement regarding grammar and language use:\n",
      "\n",
      "1. **Punctuation**: The first sentence incorrectly uses a comma instead of a period or a semicolon. It can be better expressed as: \"Climate change is no longer a future problem; it is already here and impacting lives across the globe.\"\n",
      "\n",
      "2. **Word Choice**: The phrase \"50percent\" should be corrected to \"50 percent\" for clarity. Spaces are required when writing percentages.\n",
      "\n",
      "3. **Clarity and Precision**: The phrase \"big impact\" is somewhat vague. Instead, consider using \"significant impact\" or \"serious consequences\" for a stronger statement.\n",
      "\n",
      "4. **Parallel Structure**: In the list describing the impacts of climate change, ensure parallelism. For example, writing \"Rising temperatures, unpredictable rainfall patterns, and an increase in extreme weather events such as floods, droughts, and cyclones\" maintains balance better within the sentence.\n",
      "\n",
      "5. **Use of Adverbs and Modifiers**: In sentences such as \"This is creating a big impact on rural livelihoods...\", consider using more specific language. For instance, \"This has severely impacted rural livelihoods...\" offers a stronger connotation than \"creating a big impact.\"\n",
      "\n",
      "6. **Grammar**: The phrase ‘there is need for stronger political will’ could be better stated as ‘there is a need for stronger political will...’ for grammatical correctness.\n",
      "\n",
      "7. **Cohesion and Flow**: The transitions between the paragraphs could be smoother to enhance the overall flow of the essay. For example, adding phrases such as \"Moreover, ongoing solutions must also be robust...\" can help link the governmental actions to the call for individual responsibility.\n",
      "\n",
      "8. **Conclusion**: The conclusion should also encapsulate a summary of the main points discussed in the body rather than just reiterating the urgency. It can briefly reflect on the previously mentioned points before calling for immediate action.\n",
      "\n",
      "These suggestions should help refine the structure and clarity of the essay, making it more coherent and impactful.\n",
      "overall_feedback : ### Summary of Feedback on the Essay\n",
      "\n",
      "**Language Feedback**: The essay effectively discusses climate change's impact on India but needs improvements in grammar and language use. Key areas for enhancement include:\n",
      "\n",
      "1. **Punctuation**: Use a period or semicolon instead of a comma in the opening sentence.\n",
      "2. **Word Choice**: Change \"50percent\" to \"50 percent\" for clarity.\n",
      "3. **Clarity and Precision**: Replace vague terms like \"big impact\" with stronger phrases such as \"significant impact.\"\n",
      "4. **Parallel Structure**: Maintain parallelism in lists to improve readability.\n",
      "5. **Use of Adverbs and Modifiers**: Utilize more specific language for stronger statements.\n",
      "6. **Grammar**: Improve grammatical accuracy in phrases like \"there is need for stronger political will.\"\n",
      "7. **Cohesion and Flow**: Enhance transitions between paragraphs for better flow.\n",
      "8. **Conclusion**: Summarize main points effectively before calling for action.\n",
      "\n",
      "These suggestions aim to refine the essay's structure and clarity.\n",
      "\n",
      "**Clarity of Thought Feedback**: The essay presents a well-structured argument regarding the impact of climate change in India, identifying issues like agricultural threats and risks to coastal areas, supported by relevant examples. However, it could improve in:\n",
      "\n",
      "1. **Punctuation and Grammar**: Address grammatical issues for better flow.\n",
      "2. **Detailing Solutions**: Clearly outline additional steps and technologies for mitigating climate change.\n",
      "3. **Connecting Ideas**: Improve transitions between sections for cohesion.\n",
      "4. **Call to Action**: Strengthen the conclusion by suggesting specific individual actions.\n",
      "\n",
      "Overall, while the essay communicates the urgency of climate change effectively, minor adjustments could enhance clarity and impact.\n",
      "\n",
      "**Depth of Content Feedback**: The essay successfully highlights the urgency of climate change in India across environmental, social, and economic dimensions. It shows a good understanding of its impacts on agriculture and demographic variations. To enhance depth, the essay could:\n",
      "\n",
      "1. Incorporate statistical data or specific examples to substantiate claims.\n",
      "2. Examine barriers to government action and suggest alternative strategies.\n",
      "3. Expand on public awareness and technology, providing concrete examples of successful initiatives.\n",
      "4. End with specific, actionable steps in the conclusion.\n",
      "\n",
      "In summary, while the essay presents a clear argument on climate change, it could benefit from specific evidence and a deeper exploration of proposed solutions to improve analytical depth.\n",
      "individual_scores : [7, 7, 7]\n",
      "avg_score : 7.0\n"
     ]
    }
   ],
   "source": [
    "for key, value in output.items():\n",
    "    print(f\"{key} : {value}\")"
   ]
  },
  {
   "cell_type": "code",
   "execution_count": null,
   "id": "130fa62e",
   "metadata": {},
   "outputs": [],
   "source": []
  }
 ],
 "metadata": {
  "kernelspec": {
   "display_name": "env_learn",
   "language": "python",
   "name": "python3"
  },
  "language_info": {
   "codemirror_mode": {
    "name": "ipython",
    "version": 3
   },
   "file_extension": ".py",
   "mimetype": "text/x-python",
   "name": "python",
   "nbconvert_exporter": "python",
   "pygments_lexer": "ipython3",
   "version": "3.11.5"
  }
 },
 "nbformat": 4,
 "nbformat_minor": 5
}
